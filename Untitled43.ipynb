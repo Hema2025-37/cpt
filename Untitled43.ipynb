{
 "cells": [
  {
   "cell_type": "code",
   "execution_count": 1,
   "id": "b079865b-1330-442c-b266-9968f9efb981",
   "metadata": {},
   "outputs": [
    {
     "name": "stdin",
     "output_type": "stream",
     "text": [
      "enter vijay marks in 1 subject: 88\n",
      "enter vijay marks in 2 subject: 88\n",
      "enter vijay marks in 3 subject: 90\n",
      "enter anil marks in 1 subject: 77\n",
      "enter anil marks in 2 subject: 78\n",
      "enter anil marks in 3 subject: 90\n"
     ]
    },
    {
     "name": "stdout",
     "output_type": "stream",
     "text": [
      "vijay got [88, 88, 90]\n",
      "anil got [77, 78, 90]\n"
     ]
    }
   ],
   "source": [
    "''' program that uses class as student the name and marks of the student,\n",
    "use a list to store the marks of 3 subjects.\n",
    "constraints:\n",
    "1. Take class as student \n",
    "2. create a constructor for the student name\n",
    "3. create a function for marks ,to be entered manully with in the class fuction\n",
    "   and add the marks to list\n",
    "4. display thenb student name and the marks he/she got\n",
    "5. pass the object's attributes of two student names\n",
    "tc:\n",
    "obj1: \"Vijay\"\n",
    "obj2: \"Anil\"\n",
    "\n",
    "output : Vijay got [88,88,90]\n",
    "         Anil got [77,78,90]\n",
    "'''\n",
    "class student():\n",
    "    def __init__(self,name):\n",
    "        self.name=name\n",
    "        self.marks=[]\n",
    "    def entermarks(self):\n",
    "        for i in range(3):\n",
    "            m=int(input(\"enter %s marks in %d subject:\"%(self.name,i+1)))\n",
    "            self.marks.append(m)\n",
    "    def display(self):\n",
    "        print(self.name,\"got\",self.marks)\n",
    "s1=student(\"vijay\")\n",
    "s1.entermarks()\n",
    "s2=student(\"anil\")\n",
    "s2.entermarks()\n",
    "s1.display()\n",
    "s2.display()"
   ]
  },
  {
   "cell_type": "code",
   "execution_count": 17,
   "id": "ddd50089-c3da-45bc-848c-435408e85945",
   "metadata": {},
   "outputs": [
    {
     "name": "stdout",
     "output_type": "stream",
     "text": [
      "Radius:7.5\n",
      "area:176.7144375\n",
      "circumference:47.12385\n"
     ]
    }
   ],
   "source": [
    "'''program that has a cirlce , use a class variable to define the value of constant pi.\n",
    "use this class variable to caliculate the area and circumference of the circle with sepcified\n",
    "radius\n",
    "constraint:\n",
    "pi with the class varilabe as 3.14159\n",
    "return the area and circumference value to main program by creating fuction with in the\n",
    "class respectively\n",
    "'''\n",
    "class circle():\n",
    "    pi=3.14159\n",
    "    def __init__(self,radius):\n",
    "        self.radius=radius\n",
    "    def area(self):\n",
    "        return circle.pi*(self.radius**2)\n",
    "    def circumference(self):\n",
    "        return 2*circle.pi*self.radius\n",
    "    def display(self):\n",
    "        area_value=self.area()\n",
    "        circumference_value=self.circumference()\n",
    "        print(f\"Radius:{self.radius}\")\n",
    "        print(f\"area:{area_value}\")\n",
    "        print(f\"circumference:{circumference_value}\")\n",
    "a=circle(7.5)\n",
    "a.display()\n"
   ]
  },
  {
   "cell_type": "code",
   "execution_count": 25,
   "id": "d324ce21-02bc-4b3c-8465-2aa74c2ddc94",
   "metadata": {},
   "outputs": [
    {
     "name": "stdout",
     "output_type": "stream",
     "text": [
      "base class-2\n",
      "base class-1\n",
      "derived class from both classes\n"
     ]
    }
   ],
   "source": [
    "#multiple inhertance\n",
    "class base1(object):      # 1st base - class\n",
    "    def __init__(self):\n",
    "        super(base1,self).__init__()\n",
    "        print(\"base class-1\")\n",
    "class base2(object):     #2nd base  - class\n",
    "    def __init__(self):\n",
    "        super(base2,self).__init__()\n",
    "        print(\"base class-2\")\n",
    "class derived(base1,base2):\n",
    "    def __init__(self):\n",
    "        super(derived,self).__init__()\n",
    "        print(\"derived class from both classes\")\n",
    "d=derived()\n"
   ]
  },
  {
   "cell_type": "code",
   "execution_count": 45,
   "id": "9ce5bb2b-97bf-480f-9a46-3c4cbe3ec92d",
   "metadata": {},
   "outputs": [
    {
     "name": "stdin",
     "output_type": "stream",
     "text": [
      "enter the value of a: 3\n",
      "enter the value of b: 7\n"
     ]
    },
    {
     "name": "stdout",
     "output_type": "stream",
     "text": [
      "addition is also initalised by reciving a,b from obj\n",
      "multipication is also initalised by reciving a,b from obj\n",
      "calc class initialized\n",
      "sum: 10\n",
      "product: 21\n"
     ]
    }
   ],
   "source": [
    "'''\n",
    "initalise classes addtion,multiplication in a calicuator and\n",
    "pass the values from main program to the super class where the \n",
    "sub classes addtion and mulitipication were triggered and return\n",
    "the outputs respectively.\n",
    "1. take  derived class calls\n",
    "2. from derived class call sub classes and mul\n",
    "3. return the values after math to the object\n",
    "4. manual values of f both numbers considered within the object\n",
    "'''\n",
    "class addition:\n",
    "    def __init__(self,a,b):\n",
    "        self.a=a\n",
    "        self.b=b\n",
    "        print(\"addition is also initalised by reciving a,b from obj\")\n",
    "    def add(self):\n",
    "        return self.a+self.b\n",
    "class multiplication:\n",
    "    def __init__(self,a,b):\n",
    "        self.a=a\n",
    "        self.b=b\n",
    "        print(\"multipication is also initalised by reciving a,b from obj\")\n",
    "    def mul(self):\n",
    "        return self.a*self.b\n",
    "class calc(addition,multiplication):\n",
    "    def __init__(self,a,b):\n",
    "        addition.__init__(self,a,b)\n",
    "        multiplication.__init__(self,a,b)\n",
    "        print(\"calc class initialized\")\n",
    "x=int(input(\"enter the value of a:\"))\n",
    "y=int(input(\"enter the value of b:\"))\n",
    "c=calc(x,y)\n",
    "print(\"sum:\",c.add())\n",
    "print(\"product:\",c.mul())\n",
    "    "
   ]
  },
  {
   "cell_type": "code",
   "execution_count": 47,
   "id": "ff76ddc0-ac07-4f06-9e59-3a9ac31123a8",
   "metadata": {},
   "outputs": [
    {
     "name": "stdout",
     "output_type": "stream",
     "text": [
      "Square: 9\n",
      "Cube: 27\n",
      "Sum of square and cube: 36\n"
     ]
    }
   ],
   "source": [
    "# Base class\n",
    "class Number:\n",
    "    def __init__(self, value):\n",
    "        self.value = value\n",
    "\n",
    "# Derived class\n",
    "class Power(Number):\n",
    "    def square(self):\n",
    "        return self.value ** 2\n",
    "\n",
    "    def cube(self):\n",
    "        return self.value ** 3\n",
    "\n",
    "    def sum_of_square_and_cube(self):\n",
    "        return self.square() + self.cube()\n",
    "\n",
    "# Main program\n",
    "n = Power(3)  # You can change this value or take input\n",
    "print(\"Square:\", n.square())\n",
    "print(\"Cube:\", n.cube())\n",
    "print(\"Sum of square and cube:\", n.sum_of_square_and_cube())\n"
   ]
  },
  {
   "cell_type": "code",
   "execution_count": 55,
   "id": "57291e39-b66f-4801-9e83-1ee1cb74ac88",
   "metadata": {},
   "outputs": [
    {
     "name": "stdout",
     "output_type": "stream",
     "text": [
      "name\n",
      "phd\n",
      "experince.... 15 yrs\n"
     ]
    }
   ],
   "source": [
    "#multi-level inheritance\n",
    "class person:\n",
    "    def name(self):\n",
    "        print(\"name\")\n",
    "class teacher(person):\n",
    "    def qualification(self):\n",
    "        print('phd')\n",
    "class hod(teacher):\n",
    "    def exp(Self):\n",
    "        print('experince.... 15 yrs')\n",
    "head=hod()\n",
    "head.name()\n",
    "head.qualification()\n",
    "head.exp()\n",
    "#person-> teacher-> hod"
   ]
  },
  {
   "cell_type": "code",
   "execution_count": 65,
   "id": "fd1284de-c951-417a-8bdf-2659a978f0d1",
   "metadata": {},
   "outputs": [
    {
     "name": "stdin",
     "output_type": "stream",
     "text": [
      "enter the value of a: 2\n"
     ]
    },
    {
     "name": "stdout",
     "output_type": "stream",
     "text": [
      "addition\n",
      "mul\n",
      "sum: 4\n",
      "product: 8\n",
      "total 12\n"
     ]
    }
   ],
   "source": [
    "class addition:\n",
    "    def __init__(self,a):\n",
    "        self.a=a\n",
    "        print(\"addition\")\n",
    "    def add(self):\n",
    "        return self.a**2\n",
    "class multiplication:\n",
    "    def __init__(self,a):\n",
    "        self.a=a\n",
    "        print(\"mul\")\n",
    "    def mul(self):\n",
    "        return self.a**3\n",
    "class calc(addition,multiplication):\n",
    "    def __init__(self,a):\n",
    "        addition.__init__(self,a)\n",
    "        multiplication.__init__(self,a)\n",
    "    def total(self):\n",
    "        return self.add()+self.mul()\n",
    "x=int(input(\"enter the value of a:\"))\n",
    "c=calc(x)\n",
    "print(\"sum:\",c.add())\n",
    "print(\"product:\",c.mul())\n",
    "print(\"total\",c.total())"
   ]
  },
  {
   "cell_type": "code",
   "execution_count": 71,
   "id": "977e8b74-b327-472e-ad57-4d6b21c4fb03",
   "metadata": {},
   "outputs": [
    {
     "name": "stdout",
     "output_type": "stream",
     "text": [
      "number initiaized\n",
      "square: 16\n",
      "cube: 64\n"
     ]
    }
   ],
   "source": [
    "#multi-level inhertiance cubes and squares of an obj\n",
    "class num:\n",
    "    def __init__(self,n):\n",
    "        self.n=n\n",
    "        print(\"number initiaized\")\n",
    "class sq(num):\n",
    "    def square(self):\n",
    "        return self.n**2\n",
    "class cu(sq):\n",
    "    def cube(self):\n",
    "        return self.n**3\n",
    "calc=cu(4)\n",
    "print(\"square:\",calc.square())\n",
    "print(\"cube:\",calc.cube())"
   ]
  },
  {
   "cell_type": "code",
   "execution_count": 75,
   "id": "7661d755-41df-4992-ae68-836c0bfe2145",
   "metadata": {},
   "outputs": [
    {
     "name": "stdout",
     "output_type": "stream",
     "text": [
      "double: 8\n",
      "triple: 12\n"
     ]
    }
   ],
   "source": [
    "class number:\n",
    "    def __init__(self,num):\n",
    "        self.num=num\n",
    "    def get_number(self):\n",
    "        return self.num\n",
    "class double(number):\n",
    "    def result(self):\n",
    "        return self.get_number()*2\n",
    "class triple(number):\n",
    "    def result(self):\n",
    "        return self.get_number()*3\n",
    "d=double(4)\n",
    "print(\"double:\",d.result())\n",
    "t=triple(4)\n",
    "print(\"triple:\",t.result())"
   ]
  },
  {
   "cell_type": "code",
   "execution_count": null,
   "id": "ceda260d-ed38-4ab6-9052-45b69d9dfd4e",
   "metadata": {},
   "outputs": [],
   "source": [
    "#abstract class\n",
    "class fruit:\n",
    "    def taste(self):\n",
    "        raise NotImplementedError()\n",
    "    def vitamin(self):\n",
    "        raise NotImplementedError()\n",
    "    def color(self):\n",
    "        raise NotImplementedError()\n",
    "\n",
    "\n",
    "class mango(friut):\n",
    "    def taste(self):\n",
    "        return (\"sweet\")\n",
    "    def vitamin(self):\n",
    "        return \"vitamin-A\"\n",
    "    def color(self):\n",
    "        return \"yellow\"\n",
    "class orange(fruit):\n",
    "    def  taste(self):\n",
    "        return (\"sour & sweet\")\n",
    "    def vitamin(self):\n",
    "        return \"vitamin-c\"\n",
    "    def color(self):\n",
    "        return \"orange\"\n",
    "alphanso=mango()\n",
    "print(alphanso.taste(),alphanso.vitamin(),alphasno.color()\n",
    "org=orange()\n",
    "print(org.taste(),org.vitamin(),org.color*()\n",
    "        "
   ]
  }
 ],
 "metadata": {
  "kernelspec": {
   "display_name": "Python 3 (ipykernel)",
   "language": "python",
   "name": "python3"
  },
  "language_info": {
   "codemirror_mode": {
    "name": "ipython",
    "version": 3
   },
   "file_extension": ".py",
   "mimetype": "text/x-python",
   "name": "python",
   "nbconvert_exporter": "python",
   "pygments_lexer": "ipython3",
   "version": "3.12.7"
  }
 },
 "nbformat": 4,
 "nbformat_minor": 5
}
