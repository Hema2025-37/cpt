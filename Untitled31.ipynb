{
 "cells": [
  {
   "cell_type": "code",
   "execution_count": 9,
   "id": "bad05f4d-72f6-4e56-a879-5bf302b4a206",
   "metadata": {},
   "outputs": [
    {
     "name": "stdout",
     "output_type": "stream",
     "text": [
      "from class method,var= 100\n"
     ]
    }
   ],
   "source": [
    "#private method useage\n",
    "class abc():\n",
    "    def __init__(self,var):\n",
    "        self.__var=var\n",
    "    def __display(self):\n",
    "        print(\"from class method,var=\",self.__var)\n",
    "obj=abc(100)\n",
    "obj._abc__display()"
   ]
  },
  {
   "cell_type": "code",
   "execution_count": 7,
   "id": "1be2e55e-b0e5-4f7c-93f9-273c99aba5b1",
   "metadata": {},
   "outputs": [
    {
     "name": "stdout",
     "output_type": "stream",
     "text": [
      "var is: 15\n"
     ]
    }
   ],
   "source": [
    "#code to call a class method from another method in the same class\n",
    "class abc():\n",
    "    def __init__(self,var):\n",
    "        self.var=var\n",
    "    def display(self):\n",
    "        print(\"var is:\",self.var)\n",
    "    def add_value(self):\n",
    "        self.var+=5\n",
    "        self.display()\n",
    "obj=abc(10)\n",
    "obj.add_value()"
   ]
  },
  {
   "cell_type": "code",
   "execution_count": 11,
   "id": "54ed7da2-44a0-44ff-bbf0-5e01ccba33e4",
   "metadata": {},
   "outputs": [
    {
     "name": "stdout",
     "output_type": "stream",
     "text": [
      "100\n",
      "This is class method\n"
     ]
    }
   ],
   "source": [
    "class fun():\n",
    "    var=100\n",
    "    def display(self):\n",
    "        print(\"This is class method\")\n",
    "obj = fun()\n",
    "print(obj.var)\n",
    "obj.display()\n"
   ]
  },
  {
   "cell_type": "code",
   "execution_count": 13,
   "id": "69043056-7af3-4d53-8160-d4571d92c34e",
   "metadata": {},
   "outputs": [
    {
     "name": "stdout",
     "output_type": "stream",
     "text": [
      "This is class method\n",
      "the value: 10\n"
     ]
    }
   ],
   "source": [
    "#class constructer __init__ (method)\n",
    "class fun():\n",
    "    def __init__(self , val):\n",
    "        print(\"This is class method\")\n",
    "        self.val=val\n",
    "        print(\"the value:\",val)\n",
    "obj=fun(10)\n"
   ]
  },
  {
   "cell_type": "code",
   "execution_count": 15,
   "id": "3eb603d8-f3b9-4693-a2a1-6528964f1e42",
   "metadata": {},
   "outputs": [
    {
     "name": "stdout",
     "output_type": "stream",
     "text": [
      "object var: 10\n",
      "class var: 1\n",
      "object var: 20\n",
      "class var: 2\n"
     ]
    }
   ],
   "source": [
    "class abc():\n",
    "    cv=0\n",
    "    def __init__(self,var):\n",
    "        abc.cv+=1\n",
    "        self.var=var\n",
    "        print(\"object var:\",var)\n",
    "        print(\"class var:\",abc.cv)\n",
    "obj=abc(10)\n",
    "obj=abc(20)"
   ]
  },
  {
   "cell_type": "code",
   "execution_count": 17,
   "id": "0676e772-2dfa-47a1-a5e4-7f46500e5bdc",
   "metadata": {},
   "outputs": [
    {
     "name": "stdout",
     "output_type": "stream",
     "text": [
      "6 is even\n"
     ]
    }
   ],
   "source": [
    "class abc(): \n",
    "    def __init__(self,n):\n",
    "        if n%2==0:\n",
    "            print(n,\"is even\")\n",
    "        else:\n",
    "            print(\"odd\")\n",
    "obj=abc(6)"
   ]
  },
  {
   "cell_type": "code",
   "execution_count": 19,
   "id": "a128ad53-6fd8-4ba1-9186-c343fd470cc1",
   "metadata": {},
   "outputs": [
    {
     "name": "stdout",
     "output_type": "stream",
     "text": [
      "24 is even\n"
     ]
    }
   ],
   "source": [
    "class number:\n",
    "    even=0\n",
    "    def check(self,num):\n",
    "        if num%2==0:\n",
    "            self.even=1\n",
    "    def eo(self,num):\n",
    "        self.check(num)\n",
    "        if self.even ==1:\n",
    "            print(num,\"is even\")\n",
    "        else:\n",
    "            print(num,\"is odd\")\n",
    "n=number()\n",
    "n.eo(24)"
   ]
  },
  {
   "cell_type": "code",
   "execution_count": 21,
   "id": "9c5c53c2-18e8-432c-94ef-0f8ce419d29d",
   "metadata": {},
   "outputs": [
    {
     "name": "stdout",
     "output_type": "stream",
     "text": [
      "even numbers: [32, 54]\n",
      "odd numbers : [21, 43, 65]\n"
     ]
    }
   ],
   "source": [
    "class number:\n",
    "    even=[]\n",
    "    odd=[]\n",
    "    def __init__(self,num):\n",
    "        self.num=num\n",
    "        if num%2==0:\n",
    "            number.even.append(num)\n",
    "        else:\n",
    "            number.odd.append(num)\n",
    "n1=number(21)\n",
    "n2=number(32)\n",
    "n3=number(43)\n",
    "n4=number(54)\n",
    "n5=number(65)\n",
    "print(\"even numbers:\",number.even)\n",
    "print(\"odd numbers :\",number.odd)"
   ]
  },
  {
   "cell_type": "code",
   "execution_count": 23,
   "id": "58c260e7-35c8-4f4f-8458-8e14041857c7",
   "metadata": {},
   "outputs": [
    {
     "name": "stdout",
     "output_type": "stream",
     "text": [
      "object var: 10\n",
      "class var: 1\n",
      "object var: 20\n",
      "class var: 2\n",
      "objects in 10 is going out of scope\n",
      "objects in 20 is going out of scope\n"
     ]
    }
   ],
   "source": [
    "class abc():\n",
    "    cv=0\n",
    "    def __init__(self,var):\n",
    "        abc.cv+=1\n",
    "        self.var=var\n",
    "        print(\"object var:\",var)\n",
    "        print(\"class var:\",abc.cv)\n",
    "    def __del__(self):\n",
    "        abc.cv-=1\n",
    "        print(\"objects in %d is going out of scope\"%self.var)\n",
    "obj1=abc(10)\n",
    "obj2=abc(20)\n",
    "del obj1\n",
    "del obj2\n"
   ]
  },
  {
   "cell_type": "code",
   "execution_count": 25,
   "id": "36435f42-e100-46c5-9e75-bf13c6d7ca0e",
   "metadata": {},
   "outputs": [
    {
     "name": "stdout",
     "output_type": "stream",
     "text": [
      "the value stored in object is : 20\n",
      "the length of name stored in object: 7\n",
      "second value is less than first\n"
     ]
    }
   ],
   "source": [
    "class abc():\n",
    "    def __init__(self,name,var):\n",
    "        self.name=name\n",
    "        self.var=var\n",
    "    def __repr__(self):\n",
    "        return repr(self.var)\n",
    "    def __len__(self):\n",
    "        return len(self.name)\n",
    "    def __cmp__(self,obj):\n",
    "        return self.var-obj.var\n",
    "obj = abc(\"pujitha\",20)\n",
    "print(\"the value stored in object is :\",repr(obj))\n",
    "print(\"the length of name stored in object:\",len(obj))\n",
    "obj1=abc(\"jaswanth\",1)\n",
    "val=obj.__cmp__(obj1)\n",
    "if val==0:\n",
    "    print(\"both the values are equal\")\n",
    "elif val==-1:\n",
    "    print(\"first value is less then second\")\n",
    "else:\n",
    "    print(\"second value is less than first\")"
   ]
  },
  {
   "cell_type": "code",
   "execution_count": 27,
   "id": "86f0b8a0-5bf7-48a0-b5f2-30b9d92aa9a0",
   "metadata": {},
   "outputs": [
    {
     "name": "stdout",
     "output_type": "stream",
     "text": [
      "<__main__.numbers object at 0x000002458F5F3140>\n",
      "[1, 2, 3, 10, 5, 6, 7, 8, 9]\n"
     ]
    }
   ],
   "source": [
    "class numbers:\n",
    "    def __init__(self,mylist):\n",
    "        self.mylist=mylist\n",
    "    def __getitem__(self,index):\n",
    "        return self.mylist[index]\n",
    "    def __setitem__(self,index,val):\n",
    "        self.mylist[index]=val\n",
    "numlist=numbers([1,2,3,4,5,6,7,8,9])\n",
    "print(numlist)\n",
    "numlist[3]=10\n",
    "print(numlist.mylist)\n"
   ]
  },
  {
   "cell_type": "code",
   "execution_count": 33,
   "id": "5ac5cddc-50e5-490f-9d25-d3c246b31a6c",
   "metadata": {},
   "outputs": [
    {
     "name": "stdout",
     "output_type": "stream",
     "text": [
      "var is: 10\n",
      "var is: 100\n"
     ]
    }
   ],
   "source": [
    "#class method , which calls a fuction defind global namespace\n",
    "def aaa(x):\n",
    "    return x*10\n",
    "class h():\n",
    "    def __init__(self,var):\n",
    "        self.var=var\n",
    "    def display(self):\n",
    "        print(\"var is:\", self.var)\n",
    "    def modify(self):\n",
    "        self.var=aaa(self.var)\n",
    "obj=h(10)\n",
    "obj.display()\n",
    "obj.modify()\n",
    "obj.display()"
   ]
  },
  {
   "cell_type": "code",
   "execution_count": 43,
   "id": "e3eb25f1-364b-4235-8b4a-93a0c4aaf802",
   "metadata": {},
   "outputs": [
    {
     "name": "stdout",
     "output_type": "stream",
     "text": [
      "var is: 10\n",
      "obj has attribute var True\n",
      "after setting value,var is: 55\n",
      "new varible count is created with value 10\n"
     ]
    },
    {
     "ename": "AttributeError",
     "evalue": "'abc' object has no attribute 'var'",
     "output_type": "error",
     "traceback": [
      "\u001b[1;31m---------------------------------------------------------------------------\u001b[0m",
      "\u001b[1;31mAttributeError\u001b[0m                            Traceback (most recent call last)",
      "Cell \u001b[1;32mIn[43], line 16\u001b[0m\n\u001b[0;32m     14\u001b[0m \u001b[38;5;28mprint\u001b[39m(\u001b[38;5;124m\"\u001b[39m\u001b[38;5;124mnew varible count is created with value\u001b[39m\u001b[38;5;124m\"\u001b[39m,obj\u001b[38;5;241m.\u001b[39mcount)\n\u001b[0;32m     15\u001b[0m \u001b[38;5;28mdelattr\u001b[39m(obj,\u001b[38;5;124m'\u001b[39m\u001b[38;5;124mvar\u001b[39m\u001b[38;5;124m'\u001b[39m)\n\u001b[1;32m---> 16\u001b[0m \u001b[38;5;28mprint\u001b[39m(\u001b[38;5;124m\"\u001b[39m\u001b[38;5;124mafter deleting\u001b[39m\u001b[38;5;124m\"\u001b[39m,obj\u001b[38;5;241m.\u001b[39mvar)\n",
      "\u001b[1;31mAttributeError\u001b[0m: 'abc' object has no attribute 'var'"
     ]
    }
   ],
   "source": [
    "'''builtin fuctions - get,set,delete,getattr(),setattr() and deleteattr()'''\n",
    "class abc():\n",
    "    def __init__(self,var):\n",
    "        self.var=var\n",
    "    def display(self):\n",
    "        print(\"var is:\",self.var)\n",
    "obj=abc(10)\n",
    "obj.display()\n",
    "print(\"obj has attribute var\",hasattr(obj , 'var'))\n",
    "getattr(obj,'var')\n",
    "setattr(obj,'var',55)\n",
    "print(\"after setting value,var is:\",obj.var)\n",
    "setattr(obj,'count',10)\n",
    "print(\"new varible count is created with value\",obj.count)\n",
    "delattr(obj,'var')\n",
    "print(\"after deleting\",obj.var)"
   ]
  },
  {
   "cell_type": "code",
   "execution_count": 49,
   "id": "1c6c5c16-27a1-4e25-8cf4-0f38c3f2bb12",
   "metadata": {},
   "outputs": [
    {
     "name": "stdout",
     "output_type": "stream",
     "text": [
      "var1: 10\n",
      "var2: 12.345\n",
      "object.__dict__: {'v1': 10, 'v2': 12.345}\n",
      "object.__doc__: None\n",
      "class.__name__: abc\n",
      "object.__module__: __main__\n",
      "class.__bases__: (<class 'object'>,)\n"
     ]
    }
   ],
   "source": [
    "'''built-in class attr\n",
    "1. .__doc__--- when string doc is not specified no return of attr\n",
    "2. .__dict__namespace accesed attributes\n",
    "3. .__name__returns class attr's name\n",
    "4. .__module__\n",
    "5. .__bases__ inheritance\n",
    "'''\n",
    "class abc():\n",
    "    def __init__(self,v1,v2):\n",
    "        self.v1=v1\n",
    "        self.v2=v2\n",
    "    def display(self):\n",
    "        print(\"var1:\",self.v1)\n",
    "        print(\"var2:\",self.v2)\n",
    "obj=abc(10,12.345)\n",
    "obj.display()\n",
    "print(\"object.__dict__:\",obj.__dict__)\n",
    "print(\"object.__doc__:\",obj.__doc__)\n",
    "print(\"class.__name__:\",abc.__name__)\n",
    "print(\"object.__module__:\",obj.__module__)\n",
    "print(\"class.__bases__:\",abc.__bases__)"
   ]
  },
  {
   "cell_type": "code",
   "execution_count": null,
   "id": "056739ac-a7ec-4631-8f12-9513558ebc8a",
   "metadata": {},
   "outputs": [],
   "source": []
  }
 ],
 "metadata": {
  "kernelspec": {
   "display_name": "Python 3 (ipykernel)",
   "language": "python",
   "name": "python3"
  },
  "language_info": {
   "codemirror_mode": {
    "name": "ipython",
    "version": 3
   },
   "file_extension": ".py",
   "mimetype": "text/x-python",
   "name": "python",
   "nbconvert_exporter": "python",
   "pygments_lexer": "ipython3",
   "version": "3.12.7"
  }
 },
 "nbformat": 4,
 "nbformat_minor": 5
}
