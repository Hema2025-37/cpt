{
 "cells": [
  {
   "cell_type": "code",
   "execution_count": 1,
   "id": "4fc166e9-46d8-426e-a6ae-502632b37cc9",
   "metadata": {},
   "outputs": [
    {
     "name": "stdout",
     "output_type": "stream",
     "text": [
      "2\n",
      "1\n"
     ]
    }
   ],
   "source": [
    "#swap \n",
    "a=1\n",
    "b=2\n",
    "a=a+b\n",
    "b=a-b\n",
    "a=a-b\n",
    "print(a)\n",
    "print(b)\n"
   ]
  },
  {
   "cell_type": "code",
   "execution_count": 3,
   "id": "084e070b-4385-4734-9b69-582c2a51e8d6",
   "metadata": {},
   "outputs": [
    {
     "name": "stdout",
     "output_type": "stream",
     "text": [
      "2\n",
      "1\n"
     ]
    }
   ],
   "source": [
    "#swap using circumflex\n",
    "a=1\n",
    "b=2\n",
    "a=a^b\n",
    "b=b^a\n",
    "a=a^b\n",
    "print(a)\n",
    "print(b)"
   ]
  },
  {
   "cell_type": "code",
   "execution_count": 5,
   "id": "4db4f0ee-998b-4bd0-a8ea-da5b0cd8fdad",
   "metadata": {},
   "outputs": [
    {
     "name": "stdout",
     "output_type": "stream",
     "text": [
      "1\n",
      "2\n"
     ]
    }
   ],
   "source": [
    "#swap\n",
    "a=2\n",
    "b=1\n",
    "a,b=b,a\n",
    "print(a)\n",
    "print(b)"
   ]
  },
  {
   "cell_type": "code",
   "execution_count": 7,
   "id": "88cea79b-d726-407e-84d9-b45d3552f109",
   "metadata": {},
   "outputs": [
    {
     "name": "stdout",
     "output_type": "stream",
     "text": [
      "1\n",
      "2\n"
     ]
    }
   ],
   "source": [
    "\n",
    "#swap 2numbers using conditional swap by logical and/or\n",
    "a=2\n",
    "b=1\n",
    "temp=a\n",
    "a=(a^b)&b\n",
    "b=(temp^b)&temp\n",
    "print(a)\n",
    "print(b)"
   ]
  },
  {
   "cell_type": "code",
   "execution_count": 9,
   "id": "84e5350a-3d94-458d-8ddf-819a031f21cc",
   "metadata": {},
   "outputs": [
    {
     "name": "stdout",
     "output_type": "stream",
     "text": [
      "0b11111\n"
     ]
    }
   ],
   "source": [
    "#convert into binary\n",
    "a=31\n",
    "b=bin(a)\n",
    "print(b)"
   ]
  },
  {
   "cell_type": "code",
   "execution_count": 11,
   "id": "e23178f9-c722-469e-b8f8-e7e385d91f05",
   "metadata": {},
   "outputs": [
    {
     "name": "stdout",
     "output_type": "stream",
     "text": [
      "0111\n"
     ]
    }
   ],
   "source": [
    "#convert into binary\n",
    "a=31\n",
    "b=bin(a)[::2]\n",
    "print(b)"
   ]
  },
  {
   "cell_type": "code",
   "execution_count": 13,
   "id": "43bcaf88-2e99-4b47-af8f-24defaa22536",
   "metadata": {},
   "outputs": [
    {
     "name": "stdout",
     "output_type": "stream",
     "text": [
      "{2: 'a', 3: 'b'}\n"
     ]
    }
   ],
   "source": [
    "#swap using dictionary\n",
    "c={'a':2,'b':3}\n",
    "d={v: k for k, v in c.items()}\n",
    "print(d)"
   ]
  },
  {
   "cell_type": "code",
   "execution_count": 15,
   "id": "09b63e52-aed6-4e15-bc14-3529d750edae",
   "metadata": {},
   "outputs": [
    {
     "name": "stdout",
     "output_type": "stream",
     "text": [
      "3 2\n"
     ]
    }
   ],
   "source": [
    "#swap \n",
    "c={1:2,4:3}\n",
    "c[1],c[4]=c[4],c[1]\n",
    "print(c[1],c[4])"
   ]
  },
  {
   "cell_type": "code",
   "execution_count": 17,
   "id": "9d53bc35-ec6a-4045-bab5-fbac6d24541b",
   "metadata": {},
   "outputs": [
    {
     "name": "stdout",
     "output_type": "stream",
     "text": [
      "[2, 1, 3, 4]\n"
     ]
    }
   ],
   "source": [
    "\n",
    "#swap\n",
    "#iter tool\n",
    "a=iter([1,2,3,4])\n",
    "b=list(a)\n",
    "b[0],b[1]=b[1],b[0]\n",
    "print(b)"
   ]
  },
  {
   "cell_type": "code",
   "execution_count": 19,
   "id": "c032d738-c92a-4c79-89a3-c2bd11c6b227",
   "metadata": {},
   "outputs": [
    {
     "name": "stdout",
     "output_type": "stream",
     "text": [
      "12\n",
      "1\n"
     ]
    }
   ],
   "source": [
    "\n",
    "#bitwise\n",
    "a=6<<1\n",
    "b=6>>2\n",
    "print(a)\n",
    "print(b)"
   ]
  },
  {
   "cell_type": "code",
   "execution_count": 21,
   "id": "40a9d353-6b97-471a-bbfd-c952a8450555",
   "metadata": {},
   "outputs": [
    {
     "name": "stdout",
     "output_type": "stream",
     "text": [
      "[1, 4, 9, 16, 25, 36, 49, 64, 81, 100]\n"
     ]
    }
   ],
   "source": [
    "\n",
    "#program to print the sqaures of n numbers in a list using list comprehension\n",
    "n=10\n",
    "print([ i**2 for i in range(1,n+1)])"
   ]
  },
  {
   "cell_type": "code",
   "execution_count": 23,
   "id": "97beaa76-9b4c-4898-b9f4-2df3cb0786b5",
   "metadata": {},
   "outputs": [
    {
     "name": "stdout",
     "output_type": "stream",
     "text": [
      "[4, 16, 36, 64, 100]\n"
     ]
    }
   ],
   "source": [
    "#even squares\n",
    "#program to print the sqaures of n numbers in a list using list comprehension\n",
    "n=10\n",
    "print([ i**2 for i in range(1,n+1) if i%2==0])"
   ]
  },
  {
   "cell_type": "code",
   "execution_count": 25,
   "id": "452a3c33-7970-44d9-8aa1-992aeaa10419",
   "metadata": {},
   "outputs": [
    {
     "name": "stdout",
     "output_type": "stream",
     "text": [
      "1 2 6 24 120 1 2 6 24 1 145 is strong\n"
     ]
    }
   ],
   "source": [
    "#strong no or krishnamurthys number\n",
    "#need n=145 seggragte as 1   4   5 then \n",
    "#1!+4!+5!\n",
    "n=145\n",
    "copy=n\n",
    "sum=0\n",
    "while(n>0):\n",
    "    rem=n%10\n",
    "    #sum=5!\n",
    "    fact=1\n",
    "    for i in range(1,rem+1):\n",
    "        fact*=i\n",
    "        print(fact,end=\" \")\n",
    "    sum+=fact\n",
    "    n=n//10\n",
    "    \n",
    "if sum==copy:\n",
    "    print(copy,\"is strong\")\n",
    "else:\n",
    "    print(copy,\"no\")"
   ]
  },
  {
   "cell_type": "code",
   "execution_count": 27,
   "id": "b74b87f0-2fcb-42be-9bd2-ddbe9196ff30",
   "metadata": {},
   "outputs": [
    {
     "name": "stdout",
     "output_type": "stream",
     "text": [
      "Armstrong number\n"
     ]
    }
   ],
   "source": [
    "#armstrong\n",
    "n = 153\n",
    "temp = n\n",
    "sum = 0\n",
    "\n",
    "while temp > 0:\n",
    "    digit = temp % 10\n",
    "    sum += digit * digit * digit  # because 153 has 3 digits\n",
    "    temp //= 10\n",
    "\n",
    "if sum == n:\n",
    "    print(\"Armstrong number\")\n",
    "else:\n",
    "    print(\"Not an Armstrong number\")"
   ]
  },
  {
   "cell_type": "code",
   "execution_count": 29,
   "id": "f6ad5772-d3e2-4610-9913-f2155ee5a726",
   "metadata": {},
   "outputs": [
    {
     "name": "stdout",
     "output_type": "stream",
     "text": [
      "happy\n"
     ]
    }
   ],
   "source": [
    "#happy number\n",
    "#magic number\n",
    "#n=7    \n",
    "#7^2\n",
    "#49  4^2+9^2 16+81 97 9^2+7^2 130 1^2+3^2+0^2 1+9 10 1^2+0^2 =1 it should reach 1 at end\n",
    "n=7\n",
    "visit=set()\n",
    "while n!=1 and n not in visit:\n",
    "    visit.add(n)\n",
    "    sum=0\n",
    "    while n>0:\n",
    "        digit=n%10\n",
    "        sum+=digit*digit\n",
    "        n=n//10\n",
    "    n=sum\n",
    "if sum==1:\n",
    "    print(\"happy\")\n",
    "else:\n",
    "    print(\"no\")"
   ]
  },
  {
   "cell_type": "code",
   "execution_count": 31,
   "id": "61782897-de39-431e-b436-36829a80138b",
   "metadata": {},
   "outputs": [
    {
     "name": "stdout",
     "output_type": "stream",
     "text": [
      "1\n",
      "2\n",
      "Not a Niven number\n"
     ]
    }
   ],
   "source": [
    "#nivens no or harshads number\n",
    "n = 11\n",
    "copy=n\n",
    "sum = 0\n",
    "\n",
    "while n > 0:\n",
    "    digit = n % 10\n",
    "    sum += digit\n",
    "    print(sum)\n",
    "    n //= 10\n",
    "\n",
    "if copy % sum == 0:\n",
    "    print(\"Niven number\")\n",
    "else:\n",
    "    print(\"Not a Niven number\")"
   ]
  },
  {
   "cell_type": "code",
   "execution_count": 33,
   "id": "2d2db69c-226d-40ac-8579-58926371fe26",
   "metadata": {},
   "outputs": [
    {
     "name": "stdout",
     "output_type": "stream",
     "text": [
      "1 is a given number\n",
      "2 is a given number\n",
      "3 is a given number\n",
      "4 is a given number\n",
      "5 is a given number\n",
      "6 is a given number\n",
      "7 is a given number\n",
      "8 is a given number\n",
      "9 is a given number\n",
      "10 is a given number\n",
      "12 is a given number\n",
      "18 is a given number\n",
      "20 is a given number\n",
      "21 is a given number\n",
      "24 is a given number\n",
      "27 is a given number\n",
      "30 is a given number\n",
      "36 is a given number\n",
      "40 is a given number\n",
      "42 is a given number\n",
      "45 is a given number\n",
      "48 is a given number\n",
      "50 is a given number\n",
      "54 is a given number\n",
      "60 is a given number\n",
      "63 is a given number\n",
      "70 is a given number\n",
      "72 is a given number\n",
      "80 is a given number\n",
      "81 is a given number\n",
      "84 is a given number\n",
      "90 is a given number\n",
      "100 is a given number\n"
     ]
    }
   ],
   "source": [
    "#range\n",
    "start = 1\n",
    "end = 100  # You can change this range\n",
    "\n",
    "for n in range(start, end + 1):\n",
    "    sum_of_digits = 0\n",
    "    temp = n\n",
    "    while temp > 0:\n",
    "        sum_of_digits += temp % 10\n",
    "        temp //= 10\n",
    "    if n % sum_of_digits == 0:\n",
    "        print(n, \"is a given number\")"
   ]
  },
  {
   "cell_type": "code",
   "execution_count": 41,
   "id": "6e6525a2-b987-44c3-b9b4-c9dd2009b9dc",
   "metadata": {},
   "outputs": [
    {
     "name": "stdin",
     "output_type": "stream",
     "text": [
      " 5\n"
     ]
    },
    {
     "name": "stdout",
     "output_type": "stream",
     "text": [
      "1 2 4 8 16 "
     ]
    }
   ],
   "source": [
    "a=1\n",
    "b=1\n",
    "n=int(input())\n",
    "for i in range(1,n+1):\n",
    "    if n%2==0:\n",
    "        print(b,end=\" \")\n",
    "        b*=3\n",
    "    else:\n",
    "        print(a,end=\" \")\n",
    "        a*=2"
   ]
  },
  {
   "cell_type": "code",
   "execution_count": 43,
   "id": "b98b84b1-bbd5-464a-b1d4-12ca918dbf28",
   "metadata": {},
   "outputs": [
    {
     "name": "stdin",
     "output_type": "stream",
     "text": [
      " 7\n"
     ]
    },
    {
     "name": "stdout",
     "output_type": "stream",
     "text": [
      "7\n",
      "7\n",
      "0 spy\n"
     ]
    }
   ],
   "source": [
    "\n",
    "n=int(input())\n",
    "sum=0\n",
    "mul=1\n",
    "while n>0:\n",
    "    r=n%10\n",
    "    sum+=r\n",
    "    mul*=r\n",
    "    n//=10\n",
    "print(sum)\n",
    "print(mul)\n",
    "if sum==mul:\n",
    "    print(n,\"spy\")\n",
    "else:\n",
    "    print(n,\"no\")\n",
    "    \n"
   ]
  },
  {
   "cell_type": "code",
   "execution_count": 45,
   "id": "9320dc45-d520-4a4c-aad2-b2f89e0d2a17",
   "metadata": {},
   "outputs": [
    {
     "name": "stdin",
     "output_type": "stream",
     "text": [
      " 9\n"
     ]
    },
    {
     "name": "stdout",
     "output_type": "stream",
     "text": [
      "not\n"
     ]
    }
   ],
   "source": [
    "\n",
    "n=input()\n",
    "if n[0] == '0':\n",
    "    print(\"no\")\n",
    "elif '0' in n:\n",
    "    print(\"duck\")\n",
    "else:\n",
    "    print(\"not\")"
   ]
  },
  {
   "cell_type": "code",
   "execution_count": 47,
   "id": "93545d95-da5d-4d4b-bae6-875183ec88f2",
   "metadata": {},
   "outputs": [
    {
     "name": "stdin",
     "output_type": "stream",
     "text": [
      " 5\n"
     ]
    },
    {
     "name": "stdout",
     "output_type": "stream",
     "text": [
      "no\n"
     ]
    }
   ],
   "source": [
    "\n",
    "n=int(input())\n",
    "sum=0\n",
    "squr=n*n\n",
    "while squr>0:\n",
    "    r=squr%10\n",
    "    sum+=r\n",
    "    squr//=10\n",
    "if sum==n:\n",
    "    print(\"neon\")\n",
    "else:\n",
    "    print(\"no\")"
   ]
  },
  {
   "cell_type": "code",
   "execution_count": 49,
   "id": "c356aee1-8100-49d6-9bbe-ef657ed50039",
   "metadata": {
    "scrolled": true
   },
   "outputs": [
    {
     "name": "stdin",
     "output_type": "stream",
     "text": [
      " 10\n"
     ]
    },
    {
     "name": "stdout",
     "output_type": "stream",
     "text": [
      "adam\n"
     ]
    }
   ],
   "source": [
    "n=int(input())\n",
    "r=int(str(n)[::-1])\n",
    "sq=n*n\n",
    "sqr=r*r\n",
    "if int(str(sq)[::-1]) == sqr :\n",
    "    print(\"adam\")\n",
    "else:\n",
    "    print(\"no\")\n",
    "    "
   ]
  },
  {
   "cell_type": "code",
   "execution_count": 51,
   "id": "24808d17-3a64-45b0-81f9-6c42f498af5c",
   "metadata": {},
   "outputs": [
    {
     "name": "stdin",
     "output_type": "stream",
     "text": [
      " 15\n"
     ]
    },
    {
     "name": "stdout",
     "output_type": "stream",
     "text": [
      "[1, 8, 27, 64, 125, 216, 343, 512, 729, 1000, 1331, 1728, 2197, 2744, 3375]\n"
     ]
    }
   ],
   "source": [
    "n=int(input())\n",
    "print([i**3 for i in range(1,n+1)])"
   ]
  },
  {
   "cell_type": "code",
   "execution_count": 54,
   "id": "c924ed5c-123d-4910-b65d-200765cd9428",
   "metadata": {},
   "outputs": [
    {
     "name": "stdin",
     "output_type": "stream",
     "text": [
      " 5\n"
     ]
    },
    {
     "name": "stdout",
     "output_type": "stream",
     "text": [
      "1 2 3 4 5 15\n"
     ]
    }
   ],
   "source": [
    "n=int(input())\n",
    "sum=0\n",
    "for i in range(1,n+1):\n",
    "    print(i,end=\" \")\n",
    "    sum+=i\n",
    "print(sum)"
   ]
  },
  {
   "cell_type": "code",
   "execution_count": 56,
   "id": "d7607122-650d-4ef3-8f49-f3c77c03dc5e",
   "metadata": {},
   "outputs": [
    {
     "name": "stdin",
     "output_type": "stream",
     "text": [
      " 6\n"
     ]
    },
    {
     "name": "stdout",
     "output_type": "stream",
     "text": [
      "0 1 1 2 3 5 "
     ]
    }
   ],
   "source": [
    "n=int(input())\n",
    "a,b=0,1\n",
    "for i in range (1,n+1):\n",
    "    print(a,end=\" \")\n",
    "    a,b=b,a+b"
   ]
  },
  {
   "cell_type": "code",
   "execution_count": 58,
   "id": "c4ea06c9-c62b-40da-bbcc-a27e0a551238",
   "metadata": {},
   "outputs": [
    {
     "name": "stdin",
     "output_type": "stream",
     "text": [
      " 7\n"
     ]
    },
    {
     "name": "stdout",
     "output_type": "stream",
     "text": [
      "* * * * * * * \n",
      "* * * * * * * \n",
      "* * * * * * * \n",
      "* * * * * * * \n",
      "* * * * * * * \n",
      "* * * * * * * \n",
      "* * * * * * * \n"
     ]
    }
   ],
   "source": [
    "\n",
    "n=int(input())\n",
    "for i in range(1,n+1):\n",
    "    for j in range(1,n+1):\n",
    "        print('*',end=\" \")\n",
    "    print()"
   ]
  },
  {
   "cell_type": "code",
   "execution_count": 60,
   "id": "a23281ff-1123-435e-bc01-fa78711b48e9",
   "metadata": {},
   "outputs": [
    {
     "name": "stdin",
     "output_type": "stream",
     "text": [
      " 8\n"
     ]
    },
    {
     "name": "stdout",
     "output_type": "stream",
     "text": [
      "* incrasing triangl\n",
      "* * incrasing triangl\n",
      "* * * incrasing triangl\n",
      "* * * * incrasing triangl\n",
      "* * * * * incrasing triangl\n",
      "* * * * * * incrasing triangl\n",
      "* * * * * * * incrasing triangl\n",
      "* * * * * * * * incrasing triangl\n"
     ]
    }
   ],
   "source": [
    "n=int(input())\n",
    "for i in range(1,n+1):\n",
    "    for j in range(i):\n",
    "        print('*',end=\" \")\n",
    "    print(\"incrasing triangl\")"
   ]
  },
  {
   "cell_type": "code",
   "execution_count": 62,
   "id": "60392a7d-c878-4a00-a4a7-4e5ada7587eb",
   "metadata": {},
   "outputs": [
    {
     "name": "stdin",
     "output_type": "stream",
     "text": [
      " 5\n"
     ]
    },
    {
     "name": "stdout",
     "output_type": "stream",
     "text": [
      "* * * * * \n",
      "* * * * \n",
      "* * * \n",
      "* * \n",
      "* \n"
     ]
    }
   ],
   "source": [
    "n=int(input())\n",
    "for i in range(1,n+1):\n",
    "    for j in range(i,n+1):\n",
    "        print('*',end=\" \")\n",
    "    print()"
   ]
  },
  {
   "cell_type": "code",
   "execution_count": 64,
   "id": "33ebc324-de28-4458-8fe9-a194424e71ae",
   "metadata": {},
   "outputs": [
    {
     "name": "stdin",
     "output_type": "stream",
     "text": [
      " 5\n"
     ]
    },
    {
     "name": "stdout",
     "output_type": "stream",
     "text": [
      "          * \n",
      "        * * \n",
      "      * * * \n",
      "    * * * * \n",
      "  * * * * * \n"
     ]
    }
   ],
   "source": [
    "n=int(input())\n",
    "for i in range(1,n+1):\n",
    "    for j in range(i,n+1):\n",
    "        print(' ',end=\" \")\n",
    "    for j in range(i):\n",
    "        print('*',end=\" \")\n",
    "    print()"
   ]
  },
  {
   "cell_type": "code",
   "execution_count": 72,
   "id": "5bdc4a97-96e3-4967-bc76-dae59f5b6585",
   "metadata": {},
   "outputs": [
    {
     "name": "stdin",
     "output_type": "stream",
     "text": [
      " 7\n"
     ]
    },
    {
     "name": "stdout",
     "output_type": "stream",
     "text": [
      "              * \n",
      "            * * * \n",
      "          * * * * * \n",
      "        * * * * * * * \n",
      "      * * * * * * * * * \n",
      "    * * * * * * * * * * * \n",
      "  * * * * * * * * * * * * * \n"
     ]
    }
   ],
   "source": [
    "\n",
    "n=int(input())\n",
    "for i in range(1,n+1):\n",
    "    for j in range(i,n+1):\n",
    "        print(' ',end=\" \")\n",
    "    for j in range(i-1):\n",
    "        print('*',end=\" \")\n",
    "    for j in range(i):\n",
    "        print('*',end=\" \")\n",
    "    print()"
   ]
  },
  {
   "cell_type": "code",
   "execution_count": 68,
   "id": "06c87af2-15fe-4700-9e5d-5b23a8f42130",
   "metadata": {},
   "outputs": [
    {
     "name": "stdin",
     "output_type": "stream",
     "text": [
      " 7\n"
     ]
    },
    {
     "name": "stdout",
     "output_type": "stream",
     "text": [
      "1 \n",
      "2 2 \n",
      "3 3 3 \n",
      "4 4 4 4 \n",
      "5 5 5 5 5 \n",
      "6 6 6 6 6 6 \n",
      "7 7 7 7 7 7 7 \n"
     ]
    }
   ],
   "source": [
    "n=int(input())\n",
    "p=1\n",
    "for i in range(1,n+1):\n",
    "    for j in range(i):\n",
    "        print(p,end=\" \")\n",
    "    p+=1\n",
    "    print()"
   ]
  },
  {
   "cell_type": "code",
   "execution_count": 74,
   "id": "c1734fe4-2c4b-4413-9c47-257d0efb1ded",
   "metadata": {},
   "outputs": [
    {
     "name": "stdin",
     "output_type": "stream",
     "text": [
      " 5\n"
     ]
    },
    {
     "name": "stdout",
     "output_type": "stream",
     "text": [
      "5 \n",
      "4 4 \n",
      "3 3 3 \n",
      "2 2 2 2 \n",
      "1 1 1 1 1 \n"
     ]
    }
   ],
   "source": [
    "\n",
    "n=int(input())\n",
    "p=5\n",
    "for i in range(1,n+1):\n",
    "    for j in range(i):\n",
    "        print(p,end=\" \")\n",
    "    p-=1\n",
    "    print()"
   ]
  },
  {
   "cell_type": "code",
   "execution_count": 76,
   "id": "546f7f59-077f-4f34-9b80-5441fc7b7ef4",
   "metadata": {},
   "outputs": [
    {
     "name": "stdin",
     "output_type": "stream",
     "text": [
      " 4\n"
     ]
    },
    {
     "name": "stdout",
     "output_type": "stream",
     "text": [
      "0 \n",
      "2 2 \n",
      "4 4 4 \n",
      "6 6 6 6 \n"
     ]
    }
   ],
   "source": [
    "n=int(input())\n",
    "p=0\n",
    "for i in range(1,n+1):\n",
    "    for j in range(i):\n",
    "        print(p,end=\" \")\n",
    "    p+=2\n",
    "    print()"
   ]
  },
  {
   "cell_type": "code",
   "execution_count": 78,
   "id": "91390215-42ef-445e-8287-69b30fecd77e",
   "metadata": {},
   "outputs": [
    {
     "name": "stdin",
     "output_type": "stream",
     "text": [
      " 6\n"
     ]
    },
    {
     "name": "stdout",
     "output_type": "stream",
     "text": [
      "1 \n",
      "1 2 \n",
      "1 2 3 \n",
      "1 2 3 4 \n",
      "1 2 3 4 5 \n",
      "1 2 3 4 5 6 \n"
     ]
    }
   ],
   "source": [
    "n=int(input())\n",
    "for i in range(1,n+1):\n",
    "    p=1\n",
    "    for j in range(i):\n",
    "        print(p,end=\" \")\n",
    "        p+=1\n",
    "    print()"
   ]
  },
  {
   "cell_type": "code",
   "execution_count": 80,
   "id": "87f8049b-ae36-4109-b656-02c3abedf6e9",
   "metadata": {},
   "outputs": [
    {
     "name": "stdin",
     "output_type": "stream",
     "text": [
      " 5\n"
     ]
    },
    {
     "name": "stdout",
     "output_type": "stream",
     "text": [
      "  5 4 3 2 1 \n",
      "    5 4 3 2 \n",
      "      5 4 3 \n",
      "        5 4 \n",
      "          5 \n"
     ]
    }
   ],
   "source": [
    "n=int(input())\n",
    "for i in range(1,n+1):\n",
    "    p=5\n",
    "    for j in range(i):\n",
    "        print(' ',end=\" \")\n",
    "    for j in range(i,n+1):\n",
    "        print(p,end=\" \")\n",
    "        p-=1\n",
    "    print()"
   ]
  },
  {
   "cell_type": "code",
   "execution_count": 82,
   "id": "2d205dc8-7eec-4aa1-ae0b-8aa2160db1a7",
   "metadata": {},
   "outputs": [
    {
     "name": "stdin",
     "output_type": "stream",
     "text": [
      " 5\n"
     ]
    },
    {
     "name": "stdout",
     "output_type": "stream",
     "text": [
      "1 2 3 4 5 \n",
      "  1 2 3 4 \n",
      "    1 2 3 \n",
      "      1 2 \n",
      "        1 \n"
     ]
    }
   ],
   "source": [
    "n=int(input())\n",
    "for i in range(n):\n",
    "    p=1\n",
    "    for j in range(i):\n",
    "        print(' ',end=\" \")\n",
    "    for j in range(i,n):\n",
    "        print(p,end=\" \")\n",
    "        p+=1\n",
    "    print()"
   ]
  },
  {
   "cell_type": "code",
   "execution_count": 84,
   "id": "da22c182-3564-4fc2-befa-4a72b7a3fd82",
   "metadata": {},
   "outputs": [
    {
     "name": "stdout",
     "output_type": "stream",
     "text": [
      "5 4 3 2 1 \n",
      "  4 3 2 1 \n",
      "    3 2 1 \n",
      "      2 1 \n",
      "        1 \n"
     ]
    }
   ],
   "source": [
    "n=5\n",
    "k=5\n",
    "for i in range(n):\n",
    "    p=k\n",
    "    for j in range(i):\n",
    "        print(' ',end=\" \")\n",
    "    for j in range(i,n):\n",
    "        print(p,end=\" \")\n",
    "        p-=1\n",
    "    k-=1\n",
    "    print()"
   ]
  },
  {
   "cell_type": "code",
   "execution_count": 86,
   "id": "0bbe3cb4-7cb5-465d-a5c8-58fa8fef860d",
   "metadata": {},
   "outputs": [
    {
     "name": "stdin",
     "output_type": "stream",
     "text": [
      " 5\n"
     ]
    },
    {
     "name": "stdout",
     "output_type": "stream",
     "text": [
      "1 \n",
      "2 3 \n",
      "4 5 6 \n",
      "7 8 9 10 \n",
      "11 12 13 14 15 \n"
     ]
    }
   ],
   "source": [
    "n=int(input())\n",
    "p=1\n",
    "for i in range(1,n+1):\n",
    "    for j in range(i):\n",
    "        print(p,end=\" \")\n",
    "        p+=1\n",
    "    print()"
   ]
  },
  {
   "cell_type": "code",
   "execution_count": 88,
   "id": "b28c65af-b5de-493f-a400-ac8164d3b594",
   "metadata": {},
   "outputs": [
    {
     "name": "stdin",
     "output_type": "stream",
     "text": [
      " 8\n"
     ]
    },
    {
     "name": "stdout",
     "output_type": "stream",
     "text": [
      "*             * \n",
      "*             * \n",
      "*             * \n",
      "*             * \n",
      "*             * \n",
      "*             * \n",
      "*             * \n",
      "*             * \n"
     ]
    }
   ],
   "source": [
    "\n",
    "n=int(input())\n",
    "for i in range(n):\n",
    "    for j in range(n):\n",
    "        if(j == 0 or j == n-1):\n",
    "            print('*',end=\" \")\n",
    "        else:\n",
    "            print(' ',end=\" \")\n",
    "    print()"
   ]
  },
  {
   "cell_type": "code",
   "execution_count": 90,
   "id": "661d6662-3c9c-40c8-a6b5-f098b8a0de30",
   "metadata": {},
   "outputs": [
    {
     "name": "stdin",
     "output_type": "stream",
     "text": [
      " 5\n"
     ]
    },
    {
     "name": "stdout",
     "output_type": "stream",
     "text": [
      "    *     \n",
      "    *     \n",
      "* * * * * \n",
      "    *     \n",
      "    *     \n"
     ]
    }
   ],
   "source": [
    "n=int(input())\n",
    "for i in range(n):\n",
    "    for j in range(n):\n",
    "        if (i==n//2 or j==n//2):\n",
    "            print('*',end=\" \")\n",
    "        else:\n",
    "            print(' ',end=\" \")\n",
    "    print()\n",
    "        "
   ]
  },
  {
   "cell_type": "code",
   "execution_count": null,
   "id": "23f91153-6940-4659-adb5-401f909fed6e",
   "metadata": {},
   "outputs": [],
   "source": []
  }
 ],
 "metadata": {
  "kernelspec": {
   "display_name": "Python 3 (ipykernel)",
   "language": "python",
   "name": "python3"
  },
  "language_info": {
   "codemirror_mode": {
    "name": "ipython",
    "version": 3
   },
   "file_extension": ".py",
   "mimetype": "text/x-python",
   "name": "python",
   "nbconvert_exporter": "python",
   "pygments_lexer": "ipython3",
   "version": "3.12.7"
  }
 },
 "nbformat": 4,
 "nbformat_minor": 5
}
