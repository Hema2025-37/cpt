{
 "cells": [
  {
   "cell_type": "code",
   "execution_count": 5,
   "id": "a4fd1808-e4fe-49e8-9d01-5c5281e0cfd7",
   "metadata": {},
   "outputs": [
    {
     "name": "stdout",
     "output_type": "stream",
     "text": [
      "26\n"
     ]
    }
   ],
   "source": [
    "# nested  dict\n",
    "person = {\n",
    "    \"vijay\" : {\"salary\": 10000 , \"emid\" : 24 },\n",
    "    \"steve\" : {\"salary\": 1000 , \"emid\" : 26 }}\n",
    "print(person[\"steve\"][\"emid\"])\n",
    "          "
   ]
  },
  {
   "cell_type": "code",
   "execution_count": 7,
   "id": "37b5dcb5-2543-4421-8e19-402af6e9792d",
   "metadata": {},
   "outputs": [
    {
     "name": "stdout",
     "output_type": "stream",
     "text": [
      "vijayawada\n"
     ]
    }
   ],
   "source": [
    "# dictionary with tuples as keys\n",
    "loc = {\n",
    "    (40.1231, -75.00001):\"newyork\",\n",
    "    (34.1232, -111.678):\"vijayawada\",\n",
    "}\n",
    "print(loc[(34.1232, -111.678)])"
   ]
  },
  {
   "cell_type": "code",
   "execution_count": 11,
   "id": "112be2a3-2892-4d62-8c7a-2bd66a8ee352",
   "metadata": {},
   "outputs": [
    {
     "name": "stdout",
     "output_type": "stream",
     "text": [
      "{1, 2, 3, 4, 5}\n",
      "add and remove elements\n",
      "{1, 2, 3, 4, 5, 6}\n",
      "{1, 2, 4, 5, 6}\n",
      "False\n",
      "False\n"
     ]
    }
   ],
   "source": [
    "#set implementations\n",
    "s =  {1,2,3,4,5}\n",
    "print(s)\n",
    "print(\"add and remove elements\")\n",
    "s.add(6)\n",
    "print(s)\n",
    "s.remove(3)\n",
    "print(s)\n",
    "print(3 in s)\n",
    "print(2 not in s)"
   ]
  },
  {
   "cell_type": "code",
   "execution_count": 1,
   "id": "8bad5afb-72c2-4297-ad86-147c40fe6919",
   "metadata": {},
   "outputs": [
    {
     "name": "stdout",
     "output_type": "stream",
     "text": [
      "a is subset to b :  True\n",
      "b is subset to b :  False\n"
     ]
    }
   ],
   "source": [
    "a = {1,2}\n",
    "b = {1,2,3,4,5}\n",
    "print(\"a is subset to b : \",a.issubset(b))\n",
    "print(\"b is subset to b : \",b.issubset(a))"
   ]
  },
  {
   "cell_type": "code",
   "execution_count": 7,
   "id": "33df42f5-6649-4531-873a-c0666d925ba5",
   "metadata": {},
   "outputs": [
    {
     "name": "stdout",
     "output_type": "stream",
     "text": [
      "union: {1, 2, 3, 4, 5, 6}\n",
      "Intersection: {3}\n",
      "subset or not : False\n",
      "proper subset : False\n",
      "superset or not : False\n",
      "proper superset : False\n"
     ]
    }
   ],
   "source": [
    "a = {1,2,3}\n",
    "b = {3,4,5,6}\n",
    "print(\"union:\", a.union(b))\n",
    "print(\"Intersection:\", a.intersection(b))\n",
    "print(\"subset or not :\" ,  a<=b)\n",
    "print(\"proper subset :\" ,  a<b)\n",
    "print(\"superset or not :\" ,  a>=b)\n",
    "print(\"proper superset :\" ,  b>a)\n",
    "\n"
   ]
  },
  {
   "cell_type": "code",
   "execution_count": 9,
   "id": "86710675-7bf5-468a-833c-fbf2dbab51f6",
   "metadata": {},
   "outputs": [
    {
     "name": "stdout",
     "output_type": "stream",
     "text": [
      "{1, 2, 5}\n"
     ]
    }
   ],
   "source": [
    "#set with lists\n",
    "nums = [1,2,2,5]\n",
    "single = set(nums)\n",
    "print(single)"
   ]
  },
  {
   "cell_type": "code",
   "execution_count": 11,
   "id": "09fd75c6-befa-48a5-b494-de1e73f78a68",
   "metadata": {},
   "outputs": [
    {
     "name": "stdout",
     "output_type": "stream",
     "text": [
      "x is a subset of y \n"
     ]
    }
   ],
   "source": [
    "x = set([1,2])\n",
    "y = set([1,2,3])\n",
    "if x.issubset(y):\n",
    "    print(\"x is a subset of y \")\n",
    "    "
   ]
  },
  {
   "cell_type": "code",
   "execution_count": 39,
   "id": "7c66a568-e657-470a-9d01-f8c655fa0b4d",
   "metadata": {},
   "outputs": [
    {
     "name": "stdout",
     "output_type": "stream",
     "text": [
      "value for key: '(S)' : 123\n"
     ]
    }
   ],
   "source": [
    "info = {'name' : 'india', 'num' : 123}\n",
    "s = 'num'\n",
    "for key, value in info.items():\n",
    "    if key==s:\n",
    "        print(f\"value for key: '(S)' : {value}\")\n",
    "        "
   ]
  },
  {
   "cell_type": "code",
   "execution_count": 43,
   "id": "3b7d4362-1588-43be-a66f-33a15e6a388b",
   "metadata": {},
   "outputs": [
    {
     "ename": "TypeError",
     "evalue": "float() argument must be a string or a real number, not 'set'",
     "output_type": "error",
     "traceback": [
      "\u001b[1;31m---------------------------------------------------------------------------\u001b[0m",
      "\u001b[1;31mTypeError\u001b[0m                                 Traceback (most recent call last)",
      "Cell \u001b[1;32mIn[43], line 1\u001b[0m\n\u001b[1;32m----> 1\u001b[0m \u001b[38;5;28mfloat\u001b[39m(x)\n\u001b[0;32m      2\u001b[0m \u001b[38;5;28mstr\u001b[39m(x)\n\u001b[0;32m      3\u001b[0m \u001b[38;5;28mtuple\u001b[39m(x)\n",
      "\u001b[1;31mTypeError\u001b[0m: float() argument must be a string or a real number, not 'set'"
     ]
    }
   ],
   "source": [
    "float(x)\n",
    "str(x)\n",
    "tuple(x)\n",
    "list(x)\n",
    "set(x)\n",
    "ord(x)\n",
    "chr(x)\n",
    "hex(x)\n",
    "oct(x)\n",
    "bin(x)\n",
    "dict(x)"
   ]
  },
  {
   "cell_type": "code",
   "execution_count": 29,
   "id": "97ea154a-d50e-48a7-9106-19342a1894f4",
   "metadata": {},
   "outputs": [
    {
     "name": "stdout",
     "output_type": "stream",
     "text": [
      "key for value 'india': name\n"
     ]
    }
   ],
   "source": [
    "info = {'name': 'india', 'num': 123}\n",
    "s = 'india'\n",
    "\n",
    "for key, value in info.items():\n",
    "    if value == s:\n",
    "        print(f\"key for value '{s}': {key}\")\n"
   ]
  },
  {
   "cell_type": "code",
   "execution_count": null,
   "id": "4b6aafba-971c-41c7-bda1-a15d63ebf94c",
   "metadata": {},
   "outputs": [],
   "source": [
    "info = {'name': 'india', 'num': 123}\n",
    "s = 'num'\n",
    "\n",
    "for key, value in info.items():\n",
    "    if key == s:\n",
    "        print(f\"value for key '{s}': {value}\")\n"
   ]
  },
  {
   "cell_type": "code",
   "execution_count": null,
   "id": "60494216-5dd8-40c7-9cad-68d0fecae8ba",
   "metadata": {},
   "outputs": [],
   "source": [
    "()\n",
    "\n",
    "**\n",
    "~ + -\n",
    "\n",
    "* / % //\n",
    "\n",
    "+ - \n",
    "\n",
    "<<  >>--- 5>>+2(nibble)\n",
    "\n",
    "&\n",
    "\n",
    "^ |\n",
    "\n",
    "<> == !=\n",
    "\n",
    "<= <> >=\n",
    "\n",
    "= %= /= //= -= += **=\n",
    "\n",
    "is isnot\n",
    "in notin\n",
    "and or not\n"
   ]
  }
 ],
 "metadata": {
  "kernelspec": {
   "display_name": "Python 3 (ipykernel)",
   "language": "python",
   "name": "python3"
  },
  "language_info": {
   "codemirror_mode": {
    "name": "ipython",
    "version": 3
   },
   "file_extension": ".py",
   "mimetype": "text/x-python",
   "name": "python",
   "nbconvert_exporter": "python",
   "pygments_lexer": "ipython3",
   "version": "3.12.7"
  }
 },
 "nbformat": 4,
 "nbformat_minor": 5
}
